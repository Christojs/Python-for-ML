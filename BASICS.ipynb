{
 "cells": [
  {
   "cell_type": "markdown",
   "id": "c2ace097-2bb8-4415-952e-d7e993138afd",
   "metadata": {
    "tags": []
   },
   "source": [
    "# BASICS OF `PYTHON` PROGRAMMING\n",
    "\n",
    "In this notebook we will explain basic `Python` for Machine Learning. "
   ]
  },
  {
   "cell_type": "markdown",
   "id": "960c7c02-0a0f-40a2-bb35-c45a51c339fd",
   "metadata": {
    "tags": []
   },
   "source": [
    "## DERIVED DATA TYPES IN `PYTHON`"
   ]
  },
  {
   "cell_type": "markdown",
   "id": "a9da6b2b-c08a-48d9-a614-b5dd003d24ac",
   "metadata": {},
   "source": [
    ">**NOTE:** IN PYTHON `int` ,`float`, `str` etc ARE ATOMIC DATA TYPES AND NO DECLARATION IS REQUIRED"
   ]
  },
  {
   "cell_type": "markdown",
   "id": "ec14102e-5281-4a82-898b-73dc9dae750f",
   "metadata": {},
   "source": [
    "## LISTS"
   ]
  },
  {
   "cell_type": "code",
   "execution_count": 3,
   "id": "09e1e5ba-bb32-49d0-95bc-56ece4be3afa",
   "metadata": {
    "tags": []
   },
   "outputs": [],
   "source": [
    "my_list=[1,2,3]"
   ]
  },
  {
   "cell_type": "code",
   "execution_count": 4,
   "id": "d76e2ca5-a57f-4ac7-8ce0-43fc42c2e54d",
   "metadata": {},
   "outputs": [
    {
     "data": {
      "text/plain": [
       "[1, 2, 3]"
      ]
     },
     "execution_count": 4,
     "metadata": {},
     "output_type": "execute_result"
    }
   ],
   "source": [
    "my_list"
   ]
  },
  {
   "cell_type": "code",
   "execution_count": 5,
   "id": "5ef55c35-fbb6-4c77-b91c-3497e1c3d4c1",
   "metadata": {},
   "outputs": [],
   "source": [
    "my_list=[1,\"a\",2,\"b\",3,\"c\"]"
   ]
  },
  {
   "cell_type": "code",
   "execution_count": 6,
   "id": "3a9d6168-4abe-4d79-9c0c-fdd76f0120f1",
   "metadata": {},
   "outputs": [
    {
     "data": {
      "text/plain": [
       "[1, 'a', 2, 'b', 3, 'c']"
      ]
     },
     "execution_count": 6,
     "metadata": {},
     "output_type": "execute_result"
    }
   ],
   "source": [
    "my_list"
   ]
  },
  {
   "cell_type": "code",
   "execution_count": 7,
   "id": "3a7b7e6f-103d-445c-9a35-9166eed33f0f",
   "metadata": {},
   "outputs": [
    {
     "data": {
      "text/plain": [
       "1"
      ]
     },
     "execution_count": 7,
     "metadata": {},
     "output_type": "execute_result"
    }
   ],
   "source": [
    "my_list[0]"
   ]
  },
  {
   "cell_type": "code",
   "execution_count": 9,
   "id": "4056ba49-0fbd-4b22-b3dc-e2819be23d87",
   "metadata": {},
   "outputs": [],
   "source": [
    "my_list=[1,2,[100,200]]"
   ]
  },
  {
   "cell_type": "code",
   "execution_count": 11,
   "id": "7700c788-84c1-4414-97a9-29221adedf65",
   "metadata": {},
   "outputs": [
    {
     "data": {
      "text/plain": [
       "200"
      ]
     },
     "execution_count": 11,
     "metadata": {},
     "output_type": "execute_result"
    }
   ],
   "source": [
    "my_list[2][1]"
   ]
  },
  {
   "cell_type": "code",
   "execution_count": 12,
   "id": "44ab9679-6794-4c68-a02c-8b190495b156",
   "metadata": {},
   "outputs": [],
   "source": [
    "my_list[0]=\"new\""
   ]
  },
  {
   "cell_type": "code",
   "execution_count": 13,
   "id": "8c981d5c-5cb9-4056-8756-444dd7440a75",
   "metadata": {},
   "outputs": [
    {
     "data": {
      "text/plain": [
       "['new', 2, [100, 200]]"
      ]
     },
     "execution_count": 13,
     "metadata": {},
     "output_type": "execute_result"
    }
   ],
   "source": [
    "my_list"
   ]
  },
  {
   "cell_type": "code",
   "execution_count": 14,
   "id": "14f15fb5-2a67-4b29-be2b-a85c153398b5",
   "metadata": {},
   "outputs": [],
   "source": [
    "my_list.append(\"haha\")"
   ]
  },
  {
   "cell_type": "code",
   "execution_count": 15,
   "id": "b7eab51f-67cb-473c-982c-55a1e56297ac",
   "metadata": {},
   "outputs": [
    {
     "data": {
      "text/plain": [
       "['new', 2, [100, 200], 'haha']"
      ]
     },
     "execution_count": 15,
     "metadata": {},
     "output_type": "execute_result"
    }
   ],
   "source": [
    "my_list"
   ]
  },
  {
   "cell_type": "markdown",
   "id": "d2c14599-34c3-4d8d-8074-b5c106bd5c08",
   "metadata": {},
   "source": [
    "## tuple"
   ]
  },
  {
   "cell_type": "code",
   "execution_count": 47,
   "id": "1e200168-5ee4-4838-8d79-76af930bf956",
   "metadata": {},
   "outputs": [],
   "source": [
    "t=(1,2,3)"
   ]
  },
  {
   "cell_type": "code",
   "execution_count": 20,
   "id": "fb373da5-5794-42fa-9ac7-5c067ebe94ad",
   "metadata": {},
   "outputs": [
    {
     "data": {
      "text/plain": [
       "['a', 2, 3]"
      ]
     },
     "execution_count": 20,
     "metadata": {},
     "output_type": "execute_result"
    }
   ],
   "source": [
    "t"
   ]
  },
  {
   "cell_type": "markdown",
   "id": "343d7bd8-7120-4467-9d24-57a8c5d76447",
   "metadata": {},
   "source": [
    "## dictionary"
   ]
  },
  {
   "cell_type": "code",
   "execution_count": 21,
   "id": "1f309e12-560b-4669-9b27-a2546dce0400",
   "metadata": {},
   "outputs": [],
   "source": [
    "d={'name':'jobin','age':100}"
   ]
  },
  {
   "cell_type": "code",
   "execution_count": 23,
   "id": "96b92b83-2bbc-4281-9f51-f03c91319fef",
   "metadata": {},
   "outputs": [
    {
     "data": {
      "text/plain": [
       "100"
      ]
     },
     "execution_count": 23,
     "metadata": {},
     "output_type": "execute_result"
    }
   ],
   "source": [
    "d['age']"
   ]
  },
  {
   "cell_type": "code",
   "execution_count": 24,
   "id": "ebbc894a-fb69-4f53-a736-2a342f66e136",
   "metadata": {},
   "outputs": [
    {
     "data": {
      "text/plain": [
       "{1, 2, 3, 5, 6, 9}"
      ]
     },
     "execution_count": 24,
     "metadata": {},
     "output_type": "execute_result"
    }
   ],
   "source": [
    "{1,1,1,2,2,2,6,6,6,3,3,9,9,5,5,5}"
   ]
  },
  {
   "cell_type": "code",
   "execution_count": 30,
   "id": "39726f82-8d55-473d-bdf6-e4d80468bc2a",
   "metadata": {},
   "outputs": [],
   "source": [
    "def jobin(x):\n",
    "    print(\"hi\",x)\n",
    "    return x*2"
   ]
  },
  {
   "cell_type": "code",
   "execution_count": 31,
   "id": "37c6baee-8bfa-41c9-ae53-d5abc936e7cf",
   "metadata": {},
   "outputs": [
    {
     "name": "stdout",
     "output_type": "stream",
     "text": [
      "hi 2\n"
     ]
    },
    {
     "data": {
      "text/plain": [
       "4"
      ]
     },
     "execution_count": 31,
     "metadata": {},
     "output_type": "execute_result"
    }
   ],
   "source": [
    "jobin(2)"
   ]
  },
  {
   "cell_type": "markdown",
   "id": "0cbef96f-351b-4162-92b8-622beb63a2c3",
   "metadata": {},
   "source": [
    "## Lambda argument:expression"
   ]
  },
  {
   "cell_type": "code",
   "execution_count": 33,
   "id": "a33598b8-3716-4e5a-bc8d-1e909414f6d5",
   "metadata": {},
   "outputs": [],
   "source": [
    "a=lambda x:x*2"
   ]
  },
  {
   "cell_type": "code",
   "execution_count": 34,
   "id": "4fb84d80-5b67-41bf-a732-0650f13babd3",
   "metadata": {},
   "outputs": [
    {
     "name": "stdout",
     "output_type": "stream",
     "text": [
      "hi 2\n",
      "4\n"
     ]
    }
   ],
   "source": [
    "print(jobin(2))"
   ]
  },
  {
   "cell_type": "code",
   "execution_count": 35,
   "id": "fbf43822-25af-46c7-a118-86625f5cfdaa",
   "metadata": {},
   "outputs": [
    {
     "name": "stdout",
     "output_type": "stream",
     "text": [
      "[1, 4, 9, 16]\n"
     ]
    }
   ],
   "source": [
    "x=[1,2,3,4]\n",
    "o=[]\n",
    "for i in x:\n",
    "    o.append(i**2)\n",
    "print(o)"
   ]
  },
  {
   "cell_type": "code",
   "execution_count": 36,
   "id": "6cf261f4-6a0e-43c1-a3aa-6c0404bc04ae",
   "metadata": {},
   "outputs": [
    {
     "data": {
      "text/plain": [
       "[1, 4, 9, 16]"
      ]
     },
     "execution_count": 36,
     "metadata": {},
     "output_type": "execute_result"
    }
   ],
   "source": [
    "[i**2 for i in x]"
   ]
  },
  {
   "cell_type": "code",
   "execution_count": 40,
   "id": "3ec65fa3-3dea-43be-824a-5cfd2a988cb2",
   "metadata": {},
   "outputs": [
    {
     "name": "stdout",
     "output_type": "stream",
     "text": [
      "my name is :9,my number is:jobin\n"
     ]
    }
   ],
   "source": [
    "print(\"my name is :{1},my number is:{0}\".format(\"jobin\",9))"
   ]
  },
  {
   "cell_type": "code",
   "execution_count": 43,
   "id": "91d4082c-effc-43b9-badd-c422271007bd",
   "metadata": {},
   "outputs": [],
   "source": [
    "n=12\n",
    "m=\"gg\""
   ]
  },
  {
   "cell_type": "code",
   "execution_count": 45,
   "id": "d6328711-22be-499b-915b-8a4021b7c179",
   "metadata": {},
   "outputs": [
    {
     "name": "stdout",
     "output_type": "stream",
     "text": [
      "my name is :gg,my number is:12\n"
     ]
    }
   ],
   "source": [
    "print(\"my name is :{one},my number is:{two}\".format(one=m,two=n))"
   ]
  },
  {
   "cell_type": "code",
   "execution_count": null,
   "id": "c61c05e0-34e6-4caa-a419-55f2317dee85",
   "metadata": {},
   "outputs": [],
   "source": []
  }
 ],
 "metadata": {
  "kernelspec": {
   "display_name": "Python 3 (Intel® oneAPI 2023.2)",
   "language": "python",
   "name": "c009-intel_distribution_of_python_3_oneapi-beta05-python"
  },
  "language_info": {
   "codemirror_mode": {
    "name": "ipython",
    "version": 3
   },
   "file_extension": ".py",
   "mimetype": "text/x-python",
   "name": "python",
   "nbconvert_exporter": "python",
   "pygments_lexer": "ipython3",
   "version": "3.9.16"
  }
 },
 "nbformat": 4,
 "nbformat_minor": 5
}
